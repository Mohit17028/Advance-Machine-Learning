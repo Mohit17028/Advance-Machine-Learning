{
 "cells": [
  {
   "cell_type": "code",
   "execution_count": 1,
   "metadata": {},
   "outputs": [],
   "source": [
    "import numpy as np\n",
    "import cPickle\n",
    "from PIL import Image\n",
    "import matplotlib.pyplot as plt\n"
   ]
  },
  {
   "cell_type": "code",
   "execution_count": 3,
   "metadata": {},
   "outputs": [
    {
     "name": "stdout",
     "output_type": "stream",
     "text": [
      "(10000,)\n",
      "(10000,)\n"
     ]
    }
   ],
   "source": [
    "def extractImagesAndLabels(path, file):\n",
    "    f = open(path+file, 'rb')\n",
    "    dicte = cPickle.load(f)\n",
    "    images = dicte['data']\n",
    "    Matrix=[]\n",
    "    for i in images:\n",
    "        ingle_img_reshaped = np.transpose(np.reshape(i,(3, 32,32)), (1,2,0))\n",
    "        #x=np.dot(ingle_img_reshaped[...,:3], [0.299, 0.587, 0.114])\n",
    "        x= ingle_img_reshaped.flatten()\n",
    "        Matrix.append(x)\n",
    "    #images = np.transpose(images, (1,2,0))\n",
    "   \n",
    "    Matrix = np.array(Matrix)\n",
    "    labels = dicte['labels']\n",
    "    labels = np.array(labels)\n",
    "    print labels.shape\n",
    "    return Matrix, labels\n",
    " \n",
    "#     labels = dict['labels']\n",
    "#     imagearray = mx.nd.array(images)\n",
    "#     labelarray = mx.nd.array(labels)\n",
    "#     return imagearray, labelarray\n",
    "\n",
    "def extractCategories(path, file):\n",
    "    f = open(path+file, 'rb')\n",
    "    dict = cPickle.load(f)\n",
    "    return dict['label_names']\n",
    "\n",
    "def saveCifarImage(array, path, file):\n",
    "    # array is 3x32x32. cv2 needs 32x32x3\n",
    "    array = array.asnumpy().transpose(1,2,0)\n",
    "    # array is RGB. cv2 needs BGR\n",
    "    array = cv2.cvtColor(array, cv2.COLOR_RGB2BGR)\n",
    "    # save to PNG file\n",
    "    return cv2.imwrite(path+file+\".png\", array)\n",
    "\n",
    "path = \"/home/mohit/Desktop/Nptel/Week1_Deep Learning For Visual Learning/cifar10/cifar-10-batches-py/\"\n",
    "Train_data, Train_labels = extractImagesAndLabels(path, \"data_batch_1\")\n",
    "Test_data, Test_labels = extractImagesAndLabels(path, \"test_batch\")\n",
    "\n",
    "\n",
    "\n",
    "# categories = extractCategories(\"cifar-10-batches-py/\", \"batches.meta\")\n",
    "\n",
    "# cats = []\n",
    "# for i in range(0,10):\n",
    "#     saveCifarImage(imgarray[i], \"./\", \"image\"+(str)(i))\n",
    "#     category = lblarray[i].asnumpy()\n",
    "#     category = (int)(category[0])\n",
    "#     cats.append(categories[category])\n",
    "# print cats"
   ]
  },
  {
   "cell_type": "code",
   "execution_count": 4,
   "metadata": {},
   "outputs": [],
   "source": [
    "from sklearn.svm import SVC"
   ]
  },
  {
   "cell_type": "code",
   "execution_count": 5,
   "metadata": {},
   "outputs": [],
   "source": [
    "clf = SVC(kernel=\"linear\",decision_function_shape='ovo')"
   ]
  },
  {
   "cell_type": "code",
   "execution_count": 6,
   "metadata": {},
   "outputs": [
    {
     "data": {
      "text/plain": [
       "SVC(C=1.0, cache_size=200, class_weight=None, coef0=0.0,\n",
       "  decision_function_shape='ovo', degree=3, gamma='auto', kernel='linear',\n",
       "  max_iter=-1, probability=False, random_state=None, shrinking=True,\n",
       "  tol=0.001, verbose=False)"
      ]
     },
     "execution_count": 6,
     "metadata": {},
     "output_type": "execute_result"
    }
   ],
   "source": [
    "clf.fit(Train_data, Train_labels)"
   ]
  },
  {
   "cell_type": "code",
   "execution_count": 7,
   "metadata": {},
   "outputs": [],
   "source": [
    "predict = clf.predict(Test_data)\n",
    "from sklearn.metrics import accuracy_score\n",
    "acc = accuracy_score(predict, Test_labels)"
   ]
  },
  {
   "cell_type": "code",
   "execution_count": 8,
   "metadata": {},
   "outputs": [
    {
     "name": "stdout",
     "output_type": "stream",
     "text": [
      "0.3031\n"
     ]
    }
   ],
   "source": [
    "print acc\n"
   ]
  },
  {
   "cell_type": "code",
   "execution_count": 9,
   "metadata": {},
   "outputs": [],
   "source": [
    "clf2 = SVC(kernel=\"linear\",decision_function_shape='ovr')\n",
    "clf2.fit(Train_data, Train_labels)\n",
    "acc_ovr= clf2.predict(Test_data)\n",
    "acc_ovr_= accuracy_score(Test_labels,acc_ovr)\n",
    "\n"
   ]
  },
  {
   "cell_type": "code",
   "execution_count": 10,
   "metadata": {},
   "outputs": [
    {
     "name": "stdout",
     "output_type": "stream",
     "text": [
      "Accuracy one vs one 0.3031 Accuracy one vs all  0.3031\n"
     ]
    }
   ],
   "source": [
    "print \"Accuracy one vs one\", acc, \"Accuracy one vs all \", acc_ovr_"
   ]
  },
  {
   "cell_type": "raw",
   "metadata": {},
   "source": [
    "find the optimal accuracy by the varying value of regularization\n",
    "parameter (C) and the gamma parameter simultaneously. Vary value of C as follows:\n",
    "1 0 i , where i = [ − 2 , 5 ]\n",
    "And the value of gamma varies as follows:\n",
    "1 0 i , where i = [ − 5 , 2 ]"
   ]
  },
  {
   "cell_type": "code",
   "execution_count": 11,
   "metadata": {},
   "outputs": [
    {
     "data": {
      "image/png": "[encoded data removed]",
      "text/plain": [
       "<Figure size 288x288 with 2 Axes>"
      ]
     },
     "metadata": {},
     "output_type": "display_data"
    }
   ],
   "source": [
    "from sklearn.metrics import confusion_matrix\n",
    "import matplotlib.pyplot as plt\n",
    "cm = confusion_matrix(Test_labels, predict)\n",
    "plt.matshow(cm)\n",
    "plt.title('Confusion matrix')\n",
    "plt.colorbar()\n",
    "plt.ylabel('True label')\n",
    "plt.xlabel('Predicted label')\n",
    "plt.show()"
   ]
  },
  {
   "cell_type": "code",
   "execution_count": 12,
   "metadata": {},
   "outputs": [
    {
     "data": {
      "image/png": "[encoded data removed]",
      "text/plain": [
       "<Figure size 288x288 with 2 Axes>"
      ]
     },
     "metadata": {},
     "output_type": "display_data"
    }
   ],
   "source": [
    "from sklearn.metrics import confusion_matrix\n",
    "import matplotlib.pyplot as plt\n",
    "cm = confusion_matrix(Test_labels, acc_ovr)\n",
    "plt.matshow(cm)\n",
    "plt.title('Confusion matrix')\n",
    "plt.colorbar()\n",
    "plt.ylabel('True label')\n",
    "plt.xlabel('Predicted label')\n",
    "plt.show()"
   ]
  },
  {
   "cell_type": "code",
   "execution_count": null,
   "metadata": {},
   "outputs": [],
   "source": []
  }
 ],
 "metadata": {
  "kernelspec": {
   "display_name": "Python 2",
   "language": "python",
   "name": "python2"
  },
  "language_info": {
   "codemirror_mode": {
    "name": "ipython",
    "version": 2
   },
   "file_extension": ".py",
   "mimetype": "text/x-python",
   "name": "python",
   "nbconvert_exporter": "python",
   "pygments_lexer": "ipython2",
   "version": "2.7.15"
  }
 },
 "nbformat": 4,
 "nbformat_minor": 2
}
