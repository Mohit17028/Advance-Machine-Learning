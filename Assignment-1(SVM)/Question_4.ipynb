{
 "cells": [
  {
   "cell_type": "code",
   "execution_count": 11,
   "metadata": {},
   "outputs": [],
   "source": [
    "from sklearn.svm import NuSVC\n",
    "import numpy as np"
   ]
  },
  {
   "cell_type": "code",
   "execution_count": 16,
   "metadata": {},
   "outputs": [],
   "source": [
    "import pandas as pd \n",
    "X1=pd.read_csv(\"Q4_Dataset/Train/X1.csv\")\n",
    "X2=pd.read_csv(\"Q4_Dataset/Train/X2.csv\")\n",
    "Y1=pd.read_csv(\"Q4_Dataset/Train/Y1.csv\")\n",
    "Y2=pd.read_csv(\"Q4_Dataset/Train/Y2.csv\")\n",
    "TX1=pd.read_csv(\"Q4_Dataset/Test/tX1.csv\")\n",
    "TX2=pd.read_csv(\"Q4_Dataset/Test/tX2.csv\")\n",
    "TY1=pd.read_csv(\"Q4_Dataset/Test/tY1.csv\")\n",
    "TY2=pd.read_csv(\"Q4_Dataset/Test/tY2.csv\")\n",
    "\n",
    "\n",
    "X1 = X1.values\n",
    "X2 = X2.values\n",
    "Y1 = Y1.values\n",
    "Y2= Y2.values\n",
    "TX1 = TX1.values\n",
    "TX2 = TX2.values\n",
    "TY1 = TY1.values\n",
    "TY2 = TY2.values\n",
    "Train_data = np.concatenate((X1,Y1),axis=1)\n",
    "Train_label = [0 for i in range(len(Train_data))]\n",
    "Train_data_2 = np.concatenate((X2,Y2),axis=1)\n",
    "Train_label_2 =[1 for i in range(len(Train_data_2))]\n",
    "Train_data_B = np.concatenate((Train_data,Train_data_2),axis=0)\n",
    "Train_label = Train_label+Train_label_2\n",
    "Train_Label_B = np.array(Train_label)\n",
    "\n",
    "Test_data = np.concatenate((TX1,TY1),axis=1)\n",
    "Test_label = [0 for i in range(len(Test_data))]\n",
    "Test_data_2 = np.concatenate((TX2,TY2),axis=1)\n",
    "Test_label_2 =[1 for i in range(len(Test_data_2))]\n",
    "Test_data_B = np.concatenate((Test_data,Test_data_2),axis=0)\n",
    "Test_label = Test_label+Test_label_2\n",
    "Test_Label_B = np.array(Test_label)"
   ]
  },
  {
   "cell_type": "code",
   "execution_count": 17,
   "metadata": {},
   "outputs": [
    {
     "name": "stdout",
     "output_type": "stream",
     "text": [
      "0.145807981491\n",
      "0.9498997995991983\n"
     ]
    }
   ],
   "source": [
    "#NuSVM\n",
    "# Train_data_B, Train_Label_B = mat[\"TrainDataB\"], mat[\"TrainLabB\"]\n",
    "# Test_data_B, Test_Label_B = mat[\"TestDataB\"], mat[\"TestLabB\"]\n",
    "from sklearn.metrics import accuracy_score\n",
    "import timeit\n",
    "x=timeit.default_timer()\n",
    "clf_B = NuSVC()\n",
    "clf_B.fit(Train_data_B,Train_Label_B)\n",
    "y= timeit.default_timer()\n",
    "print y-x\n",
    "pre_B = clf_B.predict(Test_data_B)\n",
    "\n",
    "acc_B= accuracy_score(pre_B, Test_Label_B)\n",
    "print acc_B"
   ]
  },
  {
   "cell_type": "code",
   "execution_count": 18,
   "metadata": {},
   "outputs": [
    {
     "name": "stdout",
     "output_type": "stream",
     "text": [
      "0.0397169589996\n",
      "0.9438877755511023\n"
     ]
    }
   ],
   "source": [
    "#C_SVM\n",
    "from sklearn.svm import SVC\n",
    "\n",
    "import timeit\n",
    "x=timeit.default_timer()\n",
    "clf_C= SVC()\n",
    "clf_C.fit(Train_data_B,Train_Label_B)\n",
    "y= timeit.default_timer()\n",
    "print y-x\n",
    "pre_C = clf_C.predict(Test_data_B)\n",
    "\n",
    "acc_C= accuracy_score(pre_C, Test_Label_B)\n",
    "print acc_C\n"
   ]
  },
  {
   "cell_type": "code",
   "execution_count": 19,
   "metadata": {},
   "outputs": [
    {
     "name": "stdout",
     "output_type": "stream",
     "text": [
      "0.019896030426\n",
      "0.9438877755511023\n"
     ]
    }
   ],
   "source": [
    "#Linear SVM\n",
    "from sklearn.svm import LinearSVC\n",
    "x=timeit.default_timer()\n",
    "clf_L= SVC(kernel='linear')\n",
    "clf_L.fit(Train_data_B,Train_Label_B)\n",
    "y= timeit.default_timer()\n",
    "print y-x\n",
    "pre_L = clf_C.predict(Test_data_B)\n",
    "\n",
    "acc_L= accuracy_score(pre_L, Test_Label_B)\n",
    "print acc_L\n"
   ]
  },
  {
   "cell_type": "code",
   "execution_count": 20,
   "metadata": {},
   "outputs": [],
   "source": [
    "def perf_measure(y_actual, y_hat):\n",
    "    TP = 0\n",
    "    FP = 0\n",
    "    TN = 0\n",
    "    FN = 0\n",
    "\n",
    "    for i in range(len(y_hat)): \n",
    "        if y_actual[i]==y_hat[i]==1:\n",
    "           TP += 1\n",
    "        if y_hat[i]==1 and y_actual[i]!=y_hat[i]:\n",
    "           FP += 1\n",
    "        if y_actual[i]==y_hat[i]==0:\n",
    "           TN += 1\n",
    "        if y_hat[i]==0 and y_actual[i]!=y_hat[i]:\n",
    "           FN += 1\n",
    "    return TP,FP,TN,FN"
   ]
  },
  {
   "cell_type": "code",
   "execution_count": 21,
   "metadata": {},
   "outputs": [],
   "source": [
    "pref_meas_NuSVM_test = perf_measure(pre_B,Test_Label_B)\n",
    "pref_meas_CSVM_test = perf_measure(pre_C,Test_Label_B)\n",
    "pref_meas_LSVM_test = perf_measure(pre_L,Test_Label_B)"
   ]
  },
  {
   "cell_type": "code",
   "execution_count": 22,
   "metadata": {},
   "outputs": [
    {
     "name": "stdout",
     "output_type": "stream",
     "text": [
      "CSVM :  (482, 17, 460, 39) \n",
      "NuSVM :  (491, 8, 457, 42) \n",
      "LSVM :  (482, 17, 460, 39)\n"
     ]
    }
   ],
   "source": [
    "print \"CSVM : \",pref_meas_CSVM_test, \"\\n\",\"NuSVM : \",pref_meas_NuSVM_test,\"\\nLSVM : \",pref_meas_LSVM_test"
   ]
  },
  {
   "cell_type": "code",
   "execution_count": 23,
   "metadata": {},
   "outputs": [
    {
     "name": "stdout",
     "output_type": "stream",
     "text": [
      "CSVM :  0.9479479479479479   NuSVM:  0.9469469469469469  LSVM:  0.9424424424424425\n"
     ]
    }
   ],
   "source": [
    "predict_train_nusvm = clf_B.predict(Train_data_B)\n",
    "predict_train_csvm = clf_C.predict(Train_data_B)\n",
    "predict_train_lsvm = clf_L.predict(Train_data_B)\n",
    "acc_on_train_nusvm = accuracy_score(predict_train_nusvm,Train_Label_B)\n",
    "acc_on_train_csvm = accuracy_score(predict_train_csvm,Train_Label_B)\n",
    "acc_on_train_lsvm = accuracy_score(predict_train_lsvm,Train_Label_B)\n",
    "print \"CSVM : \",acc_on_train_csvm,\"  NuSVM: \",acc_on_train_nusvm, \" LSVM: \", acc_on_train_lsvm"
   ]
  },
  {
   "cell_type": "code",
   "execution_count": 24,
   "metadata": {},
   "outputs": [
    {
     "name": "stdout",
     "output_type": "stream",
     "text": [
      "SV in NuSVM:  1009\n",
      "SV in CSVM:  281\n",
      "SV in LSVM:  250\n"
     ]
    }
   ],
   "source": [
    "Num_SV_nuSVM = clf_B.support_\n",
    "Num_SV_CSVM = clf_C.support_\n",
    "Num_SV_LSVM = clf_L.support_\n",
    "print \"SV in NuSVM: \", len(Num_SV_nuSVM)\n",
    "print \"SV in CSVM: \", len(Num_SV_CSVM)\n",
    "print \"SV in LSVM: \", len(Num_SV_LSVM)"
   ]
  },
  {
   "cell_type": "code",
   "execution_count": null,
   "metadata": {},
   "outputs": [],
   "source": []
  }
 ],
 "metadata": {
  "kernelspec": {
   "display_name": "Python 2",
   "language": "python",
   "name": "python2"
  },
  "language_info": {
   "codemirror_mode": {
    "name": "ipython",
    "version": 2
   },
   "file_extension": ".py",
   "mimetype": "text/x-python",
   "name": "python",
   "nbconvert_exporter": "python",
   "pygments_lexer": "ipython2",
   "version": "2.7.15"
  }
 },
 "nbformat": 4,
 "nbformat_minor": 2
}
