{
 "cells": [
  {
   "cell_type": "code",
   "execution_count": 1,
   "metadata": {},
   "outputs": [],
   "source": [
    "from sklearn.svm import NuSVC"
   ]
  },
  {
   "cell_type": "code",
   "execution_count": 2,
   "metadata": {},
   "outputs": [],
   "source": [
    "\n"
   ]
  },
  {
   "cell_type": "code",
   "execution_count": 3,
   "metadata": {},
   "outputs": [
    {
     "name": "stderr",
     "output_type": "stream",
     "text": [
      "/home/mohit/anaconda2/envs/my_env/lib/python2.7/site-packages/sklearn/utils/validation.py:578: DataConversionWarning: A column-vector y was passed when a 1d array was expected. Please change the shape of y to (n_samples, ), for example using ravel().\n",
      "  y = column_or_1d(y, warn=True)\n"
     ]
    },
    {
     "name": "stdout",
     "output_type": "stream",
     "text": [
      "0.43590092659\n",
      "0.997\n"
     ]
    }
   ],
   "source": [
    "#NuSVM\n",
    "Train_data_B, Train_Label_B = mat[\"TrainDataB\"], mat[\"TrainLabB\"]\n",
    "Test_data_B, Test_Label_B = mat[\"TestDataB\"], mat[\"TestLabB\"]\n",
    "from sklearn.metrics import accuracy_score\n",
    "import timeit\n",
    "x=timeit.default_timer()\n",
    "clf_B = NuSVC()\n",
    "clf_B.fit(Train_data_B,Train_Label_B)\n",
    "y= timeit.default_timer()\n",
    "print y-x\n",
    "pre_B = clf_B.predict(Test_data_B)\n",
    "\n",
    "acc_B= accuracy_score(pre_B, Test_Label_B)\n",
    "print acc_B"
   ]
  },
  {
   "cell_type": "code",
   "execution_count": 33,
   "metadata": {},
   "outputs": [
    {
     "name": "stdout",
     "output_type": "stream",
     "text": [
      "0.0171999931335\n",
      "1.0\n"
     ]
    }
   ],
   "source": [
    "#C_SVM\n",
    "from sklearn.svm import SVC\n",
    "\n",
    "import timeit\n",
    "x=timeit.default_timer()\n",
    "clf_C= SVC()\n",
    "clf_C.fit(Train_data_B,Train_Label_B)\n",
    "y= timeit.default_timer()\n",
    "print y-x\n",
    "pre_C = clf_C.predict(Test_data_B)\n",
    "\n",
    "acc_C= accuracy_score(pre_C, Test_Label_B)\n",
    "print acc_C\n"
   ]
  },
  {
   "cell_type": "code",
   "execution_count": 41,
   "metadata": {},
   "outputs": [
    {
     "name": "stdout",
     "output_type": "stream",
     "text": [
      "0.0115149021149\n",
      "1.0\n"
     ]
    }
   ],
   "source": [
    "#Linear SVM\n",
    "from sklearn.svm import LinearSVC\n",
    "x=timeit.default_timer()\n",
    "clf_L= SVC(kernel='linear')\n",
    "clf_L.fit(Train_data_B,Train_Label_B)\n",
    "y= timeit.default_timer()\n",
    "print y-x\n",
    "pre_L = clf_C.predict(Test_data_B)\n",
    "\n",
    "acc_L= accuracy_score(pre_L, Test_Label_B)\n",
    "print acc_L\n"
   ]
  },
  {
   "cell_type": "code",
   "execution_count": 42,
   "metadata": {},
   "outputs": [],
   "source": [
    "def perf_measure(y_actual, y_hat):\n",
    "    TP = 0\n",
    "    FP = 0\n",
    "    TN = 0\n",
    "    FN = 0\n",
    "\n",
    "    for i in range(len(y_hat)): \n",
    "        if y_actual[i]==y_hat[i]==1:\n",
    "           TP += 1\n",
    "        if y_hat[i]==1 and y_actual[i]!=y_hat[i]:\n",
    "           FP += 1\n",
    "        if y_actual[i]==y_hat[i]==0:\n",
    "           TN += 1\n",
    "        if y_hat[i]==0 and y_actual[i]!=y_hat[i]:\n",
    "           FN += 1\n",
    "    return TP,FP,TN,FN"
   ]
  },
  {
   "cell_type": "code",
   "execution_count": 43,
   "metadata": {},
   "outputs": [],
   "source": [
    "pref_meas_NuSVM_test = perf_measure(pre_B,Test_Label_B)\n",
    "pref_meas_CSVM_test = perf_measure(pre_C,Test_Label_B)\n",
    "pref_meas_LSVM_test = perf_measure(pre_L,Test_Label_B)"
   ]
  },
  {
   "cell_type": "code",
   "execution_count": 44,
   "metadata": {},
   "outputs": [
    {
     "name": "stdout",
     "output_type": "stream",
     "text": [
      "CSVM :  (1000, 0, 1000, 0) \n",
      "NuSVM :  (1000, 0, 994, 6) \n",
      "LSVM :  (1000, 0, 1000, 0)\n"
     ]
    }
   ],
   "source": [
    "print \"CSVM : \",pref_meas_CSVM_test, \"\\n\",\"NuSVM : \",pref_meas_NuSVM_test,\"\\nLSVM : \",pref_meas_LSVM_test"
   ]
  },
  {
   "cell_type": "code",
   "execution_count": 45,
   "metadata": {},
   "outputs": [
    {
     "name": "stdout",
     "output_type": "stream",
     "text": [
      "CSVM :  1.0   NuSVM:  0.9985  LSVM:  1.0\n"
     ]
    }
   ],
   "source": [
    "predict_train_nusvm = clf_B.predict(Train_data_B)\n",
    "predict_train_csvm = clf_C.predict(Train_data_B)\n",
    "predict_train_lsvm = clf_L.predict(Train_data_B)\n",
    "acc_on_train_nusvm = accuracy_score(predict_train_nusvm,Train_Label_B)\n",
    "acc_on_train_csvm = accuracy_score(predict_train_csvm,Train_Label_B)\n",
    "acc_on_train_lsvm = accuracy_score(predict_train_lsvm,Train_Label_B)\n",
    "print \"CSVM : \",acc_on_train_csvm,\"  NuSVM: \",acc_on_train_nusvm, \" LSVM: \", acc_on_train_lsvm"
   ]
  },
  {
   "cell_type": "code",
   "execution_count": 47,
   "metadata": {},
   "outputs": [
    {
     "name": "stdout",
     "output_type": "stream",
     "text": [
      "SV in NuSVM:  1010\n",
      "SV in CSVM:  80\n",
      "SV in LSVM:  35\n"
     ]
    }
   ],
   "source": [
    "Num_SV_nuSVM = clf_B.support_\n",
    "Num_SV_CSVM = clf_C.support_\n",
    "Num_SV_LSVM = clf_L.support_\n",
    "print \"SV in NuSVM: \", len(Num_SV_nuSVM)\n",
    "print \"SV in CSVM: \", len(Num_SV_CSVM)\n",
    "print \"SV in LSVM: \", len(Num_SV_LSVM)"
   ]
  },
  {
   "cell_type": "code",
   "execution_count": null,
   "metadata": {},
   "outputs": [],
   "source": []
  }
 ],
 "metadata": {
  "kernelspec": {
   "display_name": "Python 2",
   "language": "python",
   "name": "python2"
  },
  "language_info": {
   "codemirror_mode": {
    "name": "ipython",
    "version": 2
   },
   "file_extension": ".py",
   "mimetype": "text/x-python",
   "name": "python",
   "nbconvert_exporter": "python",
   "pygments_lexer": "ipython2",
   "version": "2.7.15"
  }
 },
 "nbformat": 4,
 "nbformat_minor": 2
}
