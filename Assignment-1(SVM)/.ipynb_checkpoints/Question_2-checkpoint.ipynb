{
 "cells": [
  {
   "cell_type": "code",
   "execution_count": 19,
   "metadata": {},
   "outputs": [],
   "source": [
    "import numpy as np\n",
    "import cPickle\n",
    "import cv2\n",
    "from PIL import Image\n",
    "import matplotlib.pyplot as plt\n"
   ]
  },
  {
   "cell_type": "code",
   "execution_count": 35,
   "metadata": {},
   "outputs": [
    {
     "name": "stdout",
     "output_type": "stream",
     "text": [
      "(32, 32)\n"
     ]
    },
    {
     "data": {
      "image/png": "[encoded data removed]",
      "text/plain": [
       "<Figure size 432x288 with 1 Axes>"
      ]
     },
     "metadata": {},
     "output_type": "display_data"
    }
   ],
   "source": [
    "def extractImagesAndLabels(path, file):\n",
    "    f = open(path+file, 'rb')\n",
    "    dicte = cPickle.load(f)\n",
    "    images = dicte['data']\n",
    "    Matrix=[]\n",
    "    for i in images:\n",
    "        ingle_img_reshaped = np.transpose(np.reshape(i,(3, 32,32)), (1,2,0))\n",
    "        x=np.dot(ingle_img_reshaped[...,:3], [0.299, 0.587, 0.114])\n",
    "        Matrix.append(x)\n",
    "    #images = np.transpose(images, (1,2,0))\n",
    "    print x.shape\n",
    "    img = cv2.imread(x, 0)\n",
    "    plt.imshow(x)\n",
    " \n",
    "#     labels = dict['labels']\n",
    "#     imagearray = mx.nd.array(images)\n",
    "#     labelarray = mx.nd.array(labels)\n",
    "#     return imagearray, labelarray\n",
    "\n",
    "def extractCategories(path, file):\n",
    "    f = open(path+file, 'rb')\n",
    "    dict = cPickle.load(f)\n",
    "    return dict['label_names']\n",
    "\n",
    "def saveCifarImage(array, path, file):\n",
    "    # array is 3x32x32. cv2 needs 32x32x3\n",
    "    array = array.asnumpy().transpose(1,2,0)\n",
    "    # array is RGB. cv2 needs BGR\n",
    "    array = cv2.cvtColor(array, cv2.COLOR_RGB2BGR)\n",
    "    # save to PNG file\n",
    "    return cv2.imwrite(path+file+\".png\", array)\n",
    "\n",
    "path = \"/home/mohit/Desktop/Nptel/Week1_Deep Learning For Visual Learning/cifar10/cifar-10-batches-py/\"\n",
    "extractImagesAndLabels(path, \"data_batch_1\")\n",
    "\n",
    "\n",
    "# categories = extractCategories(\"cifar-10-batches-py/\", \"batches.meta\")\n",
    "\n",
    "# cats = []\n",
    "# for i in range(0,10):\n",
    "#     saveCifarImage(imgarray[i], \"./\", \"image\"+(str)(i))\n",
    "#     category = lblarray[i].asnumpy()\n",
    "#     category = (int)(category[0])\n",
    "#     cats.append(categories[category])\n",
    "# print cats"
   ]
  },
  {
   "cell_type": "code",
   "execution_count": null,
   "metadata": {},
   "outputs": [],
   "source": []
  }
 ],
 "metadata": {
  "kernelspec": {
   "display_name": "Python 2",
   "language": "python",
   "name": "python2"
  },
  "language_info": {
   "codemirror_mode": {
    "name": "ipython",
    "version": 2
   },
   "file_extension": ".py",
   "mimetype": "text/x-python",
   "name": "python",
   "nbconvert_exporter": "python",
   "pygments_lexer": "ipython2",
   "version": "2.7.15"
  }
 },
 "nbformat": 4,
 "nbformat_minor": 2
}
