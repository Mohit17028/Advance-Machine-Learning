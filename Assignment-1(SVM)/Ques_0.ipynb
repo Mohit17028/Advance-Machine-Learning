{
 "cells": [
  {
   "cell_type": "code",
   "execution_count": 2,
   "metadata": {},
   "outputs": [
    {
     "name": "stdout",
     "output_type": "stream",
     "text": [
      "(1, 60000)\n"
     ]
    }
   ],
   "source": [
    "import numpy as np\n",
    "from mnist import MNIST\n",
    "images, labels = MNIST('../../Nptel/Week1_Deep Learning For Visual Learning/MNIST/raw').load_training()\n",
    "images = np.array(images)\n",
    "labels = np.array(labels, ndmin=2)\n",
    "images_test, labels_test = MNIST('../../Nptel/Week1_Deep Learning For Visual Learning/MNIST/raw').load_testing()\n",
    "images_test=np.array(images_test)\n",
    "labels_test = np.array(labels_test, ndmin=2)\n",
    "print(labels.shape)"
   ]
  },
  {
   "cell_type": "code",
   "execution_count": 3,
   "metadata": {},
   "outputs": [],
   "source": [
    "samples=[]\n",
    "label =[]\n",
    "for (img,lab) in zip(images, labels[0]):\n",
    "    if(lab==0 or lab==1):\n",
    "        samples.append(img)\n",
    "        label.append(lab)\n",
    "for (img,lab) in zip(images_test, labels_test[0]):\n",
    "    if(lab==0 or lab==1):\n",
    "        samples.append(img)\n",
    "        label.append(lab)\n",
    "\n",
    "    "
   ]
  },
  {
   "cell_type": "code",
   "execution_count": 4,
   "metadata": {},
   "outputs": [],
   "source": [
    "len(label)\n",
    "samples= np.array(samples)\n",
    "label= np.array(label)\n",
    "from sklearn.svm import SVC"
   ]
  },
  {
   "cell_type": "code",
   "execution_count": 5,
   "metadata": {},
   "outputs": [
    {
     "name": "stdout",
     "output_type": "stream",
     "text": [
      "77\n",
      "20\n",
      "11372 fold completed\n",
      "84\n",
      "28\n",
      "11741 fold completed\n",
      "75\n",
      "35\n",
      "11373 fold completed\n",
      "77\n",
      "58\n",
      "11374 fold completed\n",
      "84\n",
      "84\n"
     ]
    },
    {
     "name": "stderr",
     "output_type": "stream",
     "text": [
      "/home/mohit/anaconda2/envs/my_env/lib/python2.7/site-packages/sklearn/svm/base.py:218: ConvergenceWarning: Solver terminated early (max_iter=500).  Consider pre-processing your data with StandardScaler or MinMaxScaler.\n",
      "  % self.max_iter, ConvergenceWarning)\n"
     ]
    },
    {
     "name": "stdout",
     "output_type": "stream",
     "text": [
      "11410 fold completed\n"
     ]
    }
   ],
   "source": [
    "from sklearn.model_selection import StratifiedKFold\n",
    "from sklearn.metrics import accuracy_score\n",
    "skf = StratifiedKFold(n_splits=5)\n",
    "X_train=[]\n",
    "Y_train=[]\n",
    "X_test=[]\n",
    "Y_test=[]\n",
    "accu=[]\n",
    "accu_support=[]\n",
    "i =1\n",
    "for train_index, test_index in skf.split(samples, label):\n",
    "    X_train, X_test=samples[train_index], samples[test_index]\n",
    "    Y_train, Y_test=label[train_index],label[test_index]\n",
    "    clf = SVC(kernel='linear')\n",
    "    clf.fit(X_train,Y_train)\n",
    "    support_indices=clf.support_\n",
    "    Support_vectors=[]\n",
    "    Support_lables=[]\n",
    "    print len(support_indices)\n",
    "    for i in support_indices:\n",
    "        Support_vectors.append(samples[i])\n",
    "        Support_lables.append(label[i])\n",
    "    clf2 = SVC(kernel='linear', max_iter=500)\n",
    "    clf2.fit(Support_vectors, Support_lables)\n",
    "    print len(clf2.support_)\n",
    "    predict= clf.predict(X_test)\n",
    "    predict2 = clf2.predict(X_test)\n",
    "    acc = accuracy_score(predict,Y_test)\n",
    "    acc2 = accuracy_score(predict2, Y_test)\n",
    "    accu.append(acc)\n",
    "    accu_support.append(acc2)\n",
    "    print str(i) + \" fold completed\"\n",
    "\n",
    "    "
   ]
  },
  {
   "cell_type": "code",
   "execution_count": 25,
   "metadata": {},
   "outputs": [
    {
     "name": "stdout",
     "output_type": "stream",
     "text": [
      "ACC:  [0.9986472776462632, 0.9983090970578289, 0.9976319350473613, 0.9986463620981387, 0.9993231810490694] \n",
      "ACC_SV:  [0.9972945552925262, 0.9915454852891444, 0.9925575101488497, 0.9986463620981387, 0.9993231810490694]\n"
     ]
    }
   ],
   "source": [
    "print \"ACC: \",accu,\"\\n\", \"ACC_SV: \",accu_support"
   ]
  },
  {
   "cell_type": "code",
   "execution_count": 13,
   "metadata": {},
   "outputs": [],
   "source": [
    "mean_trained_whole_dataset = np.mean(np.array(accu))\n",
    "mean_trained_support_vectors= np.mean(np.array(accu_support))\n",
    "std_trained_whole_dataset = np.std(np.array(accu))\n",
    "std_trained_support_vectors=np.std(np.array(accu_support))\n"
   ]
  },
  {
   "cell_type": "code",
   "execution_count": 14,
   "metadata": {},
   "outputs": [
    {
     "name": "stdout",
     "output_type": "stream",
     "text": [
      "Mean (trained on whole Dataset) :  0.9985115705797323 Std (trained on whole dataset) :  0.0005495545308993313\n",
      "Mean (trained on Support Vectors) :  0.9958734187755457 Std (trained on Support Vectors) :  0.0032042459861048736\n"
     ]
    }
   ],
   "source": [
    "print \"Mean (trained on whole Dataset) : \", mean_trained_whole_dataset, \"Std (trained on whole dataset) : \", std_trained_whole_dataset\n",
    "print \"Mean (trained on Support Vectors) : \", mean_trained_support_vectors, \"Std (trained on Support Vectors) : \", std_trained_support_vectors\n"
   ]
  },
  {
   "cell_type": "raw",
   "metadata": {},
   "source": [
    "INFERENCES :: --\n"
   ]
  },
  {
   "cell_type": "code",
   "execution_count": 20,
   "metadata": {},
   "outputs": [
    {
     "data": {
      "image/png": "[encoded data removed]",
      "text/plain": [
       "<Figure size 432x288 with 1 Axes>"
      ]
     },
     "metadata": {},
     "output_type": "display_data"
    }
   ],
   "source": [
    "from sklearn.metrics import roc_curve\n",
    "preds = clf.predict(X_test)\n",
    "# preds = probs_wo[:,1]\n",
    "fpr, tpr, threshold = roc_curve(Y_test, preds)\n",
    "roc_auc = metrics.auc(fpr, tpr)\n",
    "\n",
    "# method I: plt\n",
    "import matplotlib.pyplot as plt\n",
    "plt.title('Receiver Operating Characteristic')\n",
    "plt.plot(fpr, tpr, 'b', label = 'AUC = %0.2f' % roc_auc)\n",
    "plt.legend(loc = 'lower right')\n",
    "plt.plot([0, 1], [0, 1],'r--')\n",
    "plt.xlim([0, 1])\n",
    "plt.ylim([0, 1])\n",
    "plt.ylabel('True Positive Rate')\n",
    "plt.xlabel('False Positive Rate')\n",
    "plt.show()\n"
   ]
  },
  {
   "cell_type": "code",
   "execution_count": 21,
   "metadata": {},
   "outputs": [
    {
     "data": {
      "image/png": "[encoded data removed]",
      "text/plain": [
       "<Figure size 432x288 with 1 Axes>"
      ]
     },
     "metadata": {},
     "output_type": "display_data"
    }
   ],
   "source": [
    "from sklearn.metrics import roc_curve\n",
    "preds_2 = clf2.predict(X_test)\n",
    "# preds = probs_wo[:,1]\n",
    "fpr, tpr, threshold = roc_curve(Y_test, preds_2)\n",
    "roc_auc = metrics.auc(fpr, tpr)\n",
    "\n",
    "# method I: plt\n",
    "import matplotlib.pyplot as plt\n",
    "plt.title('Receiver Operating Characteristic')\n",
    "plt.plot(fpr, tpr, 'b', label = 'AUC = %0.2f' % roc_auc)\n",
    "plt.legend(loc = 'lower right')\n",
    "plt.plot([0, 1], [0, 1],'r--')\n",
    "plt.xlim([0, 1])\n",
    "plt.ylim([0, 1])\n",
    "plt.ylabel('True Positive Rate')\n",
    "plt.xlabel('False Positive Rate')\n",
    "plt.show()"
   ]
  },
  {
   "cell_type": "code",
   "execution_count": null,
   "metadata": {},
   "outputs": [],
   "source": []
  }
 ],
 "metadata": {
  "kernelspec": {
   "display_name": "Python 2",
   "language": "python",
   "name": "python2"
  },
  "language_info": {
   "codemirror_mode": {
    "name": "ipython",
    "version": 2
   },
   "file_extension": ".py",
   "mimetype": "text/x-python",
   "name": "python",
   "nbconvert_exporter": "python",
   "pygments_lexer": "ipython2",
   "version": "2.7.15"
  }
 },
 "nbformat": 4,
 "nbformat_minor": 2
}
